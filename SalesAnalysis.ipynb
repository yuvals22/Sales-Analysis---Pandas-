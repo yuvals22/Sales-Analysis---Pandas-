{
 "cells": [
  {
   "cell_type": "markdown",
   "id": "1264696b",
   "metadata": {},
   "source": [
    "## Importing the Packages"
   ]
  },
  {
   "cell_type": "code",
   "execution_count": 519,
   "id": "aa7ae721",
   "metadata": {},
   "outputs": [],
   "source": [
    "import numpy as np\n",
    "import pandas as pd\n",
    "import os\n",
    "import matplotlib.pyplot as plt\n",
    "import seaborn as sns\n",
    "from matplotlib.ticker import PercentFormatter\n",
    "sns.set()"
   ]
  },
  {
   "cell_type": "markdown",
   "id": "e55f6c3d",
   "metadata": {},
   "source": [
    "## Task 1: Merging 12 months of sales data into a single CSV file"
   ]
  },
  {
   "cell_type": "code",
   "execution_count": 520,
   "id": "b0f623a2",
   "metadata": {},
   "outputs": [],
   "source": [
    "files = [file for file in os.listdir(\"./Sales_Data\")]\n",
    "all_months_data = pd.DataFrame()\n",
    "\n",
    "for file in files:\n",
    "    df = pd.read_csv(\"./Sales_Data/\"+file)\n",
    "    all_months_data = pd.concat([all_months_data, df])\n",
    "    \n",
    "all_months_data.to_csv(\"all_data.csv\", index = False)\n"
   ]
  },
  {
   "cell_type": "markdown",
   "id": "4e64e1c1",
   "metadata": {},
   "source": [
    "### Read in updated dataframe"
   ]
  },
  {
   "cell_type": "code",
   "execution_count": 543,
   "id": "15addb4e",
   "metadata": {},
   "outputs": [
    {
     "data": {
      "text/plain": [
       "(186850, 6)"
      ]
     },
     "execution_count": 543,
     "metadata": {},
     "output_type": "execute_result"
    }
   ],
   "source": [
    "all_data = pd.read_csv(\"all_data.csv\")\n",
    "all_data.shape"
   ]
  },
  {
   "cell_type": "markdown",
   "id": "54da3a80",
   "metadata": {},
   "source": [
    "## Task 2: Cleaning the dataset "
   ]
  },
  {
   "cell_type": "markdown",
   "id": "80a8171c",
   "metadata": {},
   "source": [
    "### Deleting nan rows"
   ]
  },
  {
   "cell_type": "code",
   "execution_count": 522,
   "id": "3d785b95",
   "metadata": {},
   "outputs": [],
   "source": [
    "#all the nan are empty rows\n",
    "all_data = all_data.dropna()"
   ]
  },
  {
   "cell_type": "markdown",
   "id": "0febaf89",
   "metadata": {},
   "source": [
    "### Rename first column"
   ]
  },
  {
   "cell_type": "code",
   "execution_count": 523,
   "id": "c2a23ff6",
   "metadata": {},
   "outputs": [
    {
     "data": {
      "text/plain": [
       "Index(['Order_ID', 'Product', 'Quantity_Ordered', 'Price_Each', 'Order_Date',\n",
       "       'Purchase_Address'],\n",
       "      dtype='object')"
      ]
     },
     "execution_count": 523,
     "metadata": {},
     "output_type": "execute_result"
    }
   ],
   "source": [
    "col_str =[]\n",
    "for col_i in all_data.columns:\n",
    "    col_i = col_i.replace(\" \",\"_\")\n",
    "    col_str.append(col_i)\n",
    "all_data.columns = col_str\n",
    "all_data.columns"
   ]
  },
  {
   "cell_type": "markdown",
   "id": "731daabe",
   "metadata": {},
   "source": [
    "### Find 'Or' and delete it"
   ]
  },
  {
   "cell_type": "code",
   "execution_count": 524,
   "id": "88895911",
   "metadata": {},
   "outputs": [
    {
     "data": {
      "text/plain": [
       "pandas.core.frame.DataFrame"
      ]
     },
     "execution_count": 524,
     "metadata": {},
     "output_type": "execute_result"
    }
   ],
   "source": [
    "all_data = all_data[all_data['Order_Date'].str[:2] != 'Or']\n",
    "type(all_data)"
   ]
  },
  {
   "cell_type": "markdown",
   "id": "e2bfd477",
   "metadata": {},
   "source": [
    "### Convert columns to the correct type"
   ]
  },
  {
   "cell_type": "code",
   "execution_count": 525,
   "id": "d5761afe",
   "metadata": {},
   "outputs": [],
   "source": [
    "all_data['Quantity_Ordered'] = pd.to_numeric(all_data['Quantity_Ordered']) #make int\n",
    "all_data['Price_Each'] = pd.to_numeric(all_data['Price_Each']) #make float"
   ]
  },
  {
   "cell_type": "markdown",
   "id": "4070cd59",
   "metadata": {},
   "source": [
    "##  Task 3: Add sales & month columns"
   ]
  },
  {
   "cell_type": "code",
   "execution_count": 526,
   "id": "7ab854d3",
   "metadata": {},
   "outputs": [],
   "source": [
    "all_data.insert(4, \"Sales\", all_data[\"Quantity_Ordered\"] * all_data[\"Price_Each\"])\n",
    "all_data.insert(6, \"Month\", all_data[\"Order_Date\"].str[:2].astype(\"int32\"))\n"
   ]
  },
  {
   "cell_type": "markdown",
   "id": "a8113e76",
   "metadata": {},
   "source": [
    "##  Task 4: Add city column"
   ]
  },
  {
   "cell_type": "code",
   "execution_count": 527,
   "id": "b38baf1c",
   "metadata": {},
   "outputs": [
    {
     "data": {
      "text/html": [
       "<div>\n",
       "<style scoped>\n",
       "    .dataframe tbody tr th:only-of-type {\n",
       "        vertical-align: middle;\n",
       "    }\n",
       "\n",
       "    .dataframe tbody tr th {\n",
       "        vertical-align: top;\n",
       "    }\n",
       "\n",
       "    .dataframe thead th {\n",
       "        text-align: right;\n",
       "    }\n",
       "</style>\n",
       "<table border=\"1\" class=\"dataframe\">\n",
       "  <thead>\n",
       "    <tr style=\"text-align: right;\">\n",
       "      <th></th>\n",
       "      <th>Order_ID</th>\n",
       "      <th>Product</th>\n",
       "      <th>Quantity_Ordered</th>\n",
       "      <th>Price_Each</th>\n",
       "      <th>Sales</th>\n",
       "      <th>Order_Date</th>\n",
       "      <th>Month</th>\n",
       "      <th>Purchase_Address</th>\n",
       "      <th>City</th>\n",
       "    </tr>\n",
       "  </thead>\n",
       "  <tbody>\n",
       "    <tr>\n",
       "      <th>0</th>\n",
       "      <td>176558</td>\n",
       "      <td>USB-C Charging Cable</td>\n",
       "      <td>2</td>\n",
       "      <td>11.95</td>\n",
       "      <td>23.90</td>\n",
       "      <td>04/19/19 08:46</td>\n",
       "      <td>4</td>\n",
       "      <td>917 1st St, Dallas, TX 75001</td>\n",
       "      <td>Dallas</td>\n",
       "    </tr>\n",
       "    <tr>\n",
       "      <th>2</th>\n",
       "      <td>176559</td>\n",
       "      <td>Bose SoundSport Headphones</td>\n",
       "      <td>1</td>\n",
       "      <td>99.99</td>\n",
       "      <td>99.99</td>\n",
       "      <td>04/07/19 22:30</td>\n",
       "      <td>4</td>\n",
       "      <td>682 Chestnut St, Boston, MA 02215</td>\n",
       "      <td>Boston</td>\n",
       "    </tr>\n",
       "    <tr>\n",
       "      <th>3</th>\n",
       "      <td>176560</td>\n",
       "      <td>Google Phone</td>\n",
       "      <td>1</td>\n",
       "      <td>600.00</td>\n",
       "      <td>600.00</td>\n",
       "      <td>04/12/19 14:38</td>\n",
       "      <td>4</td>\n",
       "      <td>669 Spruce St, Los Angeles, CA 90001</td>\n",
       "      <td>Los Angeles</td>\n",
       "    </tr>\n",
       "    <tr>\n",
       "      <th>4</th>\n",
       "      <td>176560</td>\n",
       "      <td>Wired Headphones</td>\n",
       "      <td>1</td>\n",
       "      <td>11.99</td>\n",
       "      <td>11.99</td>\n",
       "      <td>04/12/19 14:38</td>\n",
       "      <td>4</td>\n",
       "      <td>669 Spruce St, Los Angeles, CA 90001</td>\n",
       "      <td>Los Angeles</td>\n",
       "    </tr>\n",
       "    <tr>\n",
       "      <th>5</th>\n",
       "      <td>176561</td>\n",
       "      <td>Wired Headphones</td>\n",
       "      <td>1</td>\n",
       "      <td>11.99</td>\n",
       "      <td>11.99</td>\n",
       "      <td>04/30/19 09:27</td>\n",
       "      <td>4</td>\n",
       "      <td>333 8th St, Los Angeles, CA 90001</td>\n",
       "      <td>Los Angeles</td>\n",
       "    </tr>\n",
       "  </tbody>\n",
       "</table>\n",
       "</div>"
      ],
      "text/plain": [
       "  Order_ID                     Product  Quantity_Ordered  Price_Each   Sales  \\\n",
       "0   176558        USB-C Charging Cable                 2       11.95   23.90   \n",
       "2   176559  Bose SoundSport Headphones                 1       99.99   99.99   \n",
       "3   176560                Google Phone                 1      600.00  600.00   \n",
       "4   176560            Wired Headphones                 1       11.99   11.99   \n",
       "5   176561            Wired Headphones                 1       11.99   11.99   \n",
       "\n",
       "       Order_Date  Month                      Purchase_Address          City  \n",
       "0  04/19/19 08:46      4          917 1st St, Dallas, TX 75001        Dallas  \n",
       "2  04/07/19 22:30      4     682 Chestnut St, Boston, MA 02215        Boston  \n",
       "3  04/12/19 14:38      4  669 Spruce St, Los Angeles, CA 90001   Los Angeles  \n",
       "4  04/12/19 14:38      4  669 Spruce St, Los Angeles, CA 90001   Los Angeles  \n",
       "5  04/30/19 09:27      4     333 8th St, Los Angeles, CA 90001   Los Angeles  "
      ]
     },
     "execution_count": 527,
     "metadata": {},
     "output_type": "execute_result"
    }
   ],
   "source": [
    "all_data[\"City\"] = all_data[\"Purchase_Address\"].apply(lambda x: x.split(',')[1])\n",
    "all_data.head()"
   ]
  },
  {
   "cell_type": "markdown",
   "id": "b161872a",
   "metadata": {},
   "source": [
    "## Question 1 : What was the best month for sales ? How much was earned that month?"
   ]
  },
  {
   "cell_type": "code",
   "execution_count": 528,
   "id": "b3e5ce59",
   "metadata": {},
   "outputs": [
    {
     "data": {
      "text/html": [
       "<div>\n",
       "<style scoped>\n",
       "    .dataframe tbody tr th:only-of-type {\n",
       "        vertical-align: middle;\n",
       "    }\n",
       "\n",
       "    .dataframe tbody tr th {\n",
       "        vertical-align: top;\n",
       "    }\n",
       "\n",
       "    .dataframe thead th {\n",
       "        text-align: right;\n",
       "    }\n",
       "</style>\n",
       "<table border=\"1\" class=\"dataframe\">\n",
       "  <thead>\n",
       "    <tr style=\"text-align: right;\">\n",
       "      <th></th>\n",
       "      <th>Quantity_Ordered</th>\n",
       "      <th>Price_Each</th>\n",
       "      <th>Sales</th>\n",
       "    </tr>\n",
       "    <tr>\n",
       "      <th>Month</th>\n",
       "      <th></th>\n",
       "      <th></th>\n",
       "      <th></th>\n",
       "    </tr>\n",
       "  </thead>\n",
       "  <tbody>\n",
       "    <tr>\n",
       "      <th>1</th>\n",
       "      <td>10903</td>\n",
       "      <td>1811768.38</td>\n",
       "      <td>1822256.73</td>\n",
       "    </tr>\n",
       "    <tr>\n",
       "      <th>2</th>\n",
       "      <td>13449</td>\n",
       "      <td>2188884.72</td>\n",
       "      <td>2202022.42</td>\n",
       "    </tr>\n",
       "    <tr>\n",
       "      <th>3</th>\n",
       "      <td>17005</td>\n",
       "      <td>2791207.83</td>\n",
       "      <td>2807100.38</td>\n",
       "    </tr>\n",
       "    <tr>\n",
       "      <th>4</th>\n",
       "      <td>20558</td>\n",
       "      <td>3367671.02</td>\n",
       "      <td>3390670.24</td>\n",
       "    </tr>\n",
       "    <tr>\n",
       "      <th>5</th>\n",
       "      <td>18667</td>\n",
       "      <td>3135125.13</td>\n",
       "      <td>3152606.75</td>\n",
       "    </tr>\n",
       "    <tr>\n",
       "      <th>6</th>\n",
       "      <td>15253</td>\n",
       "      <td>2562025.61</td>\n",
       "      <td>2577802.26</td>\n",
       "    </tr>\n",
       "    <tr>\n",
       "      <th>7</th>\n",
       "      <td>16072</td>\n",
       "      <td>2632539.56</td>\n",
       "      <td>2647775.76</td>\n",
       "    </tr>\n",
       "    <tr>\n",
       "      <th>8</th>\n",
       "      <td>13448</td>\n",
       "      <td>2230345.42</td>\n",
       "      <td>2244467.88</td>\n",
       "    </tr>\n",
       "    <tr>\n",
       "      <th>9</th>\n",
       "      <td>13109</td>\n",
       "      <td>2084992.09</td>\n",
       "      <td>2097560.13</td>\n",
       "    </tr>\n",
       "    <tr>\n",
       "      <th>10</th>\n",
       "      <td>22703</td>\n",
       "      <td>3715554.83</td>\n",
       "      <td>3736726.88</td>\n",
       "    </tr>\n",
       "    <tr>\n",
       "      <th>11</th>\n",
       "      <td>19798</td>\n",
       "      <td>3180600.68</td>\n",
       "      <td>3199603.20</td>\n",
       "    </tr>\n",
       "    <tr>\n",
       "      <th>12</th>\n",
       "      <td>28114</td>\n",
       "      <td>4588415.41</td>\n",
       "      <td>4613443.34</td>\n",
       "    </tr>\n",
       "  </tbody>\n",
       "</table>\n",
       "</div>"
      ],
      "text/plain": [
       "       Quantity_Ordered  Price_Each       Sales\n",
       "Month                                          \n",
       "1                 10903  1811768.38  1822256.73\n",
       "2                 13449  2188884.72  2202022.42\n",
       "3                 17005  2791207.83  2807100.38\n",
       "4                 20558  3367671.02  3390670.24\n",
       "5                 18667  3135125.13  3152606.75\n",
       "6                 15253  2562025.61  2577802.26\n",
       "7                 16072  2632539.56  2647775.76\n",
       "8                 13448  2230345.42  2244467.88\n",
       "9                 13109  2084992.09  2097560.13\n",
       "10                22703  3715554.83  3736726.88\n",
       "11                19798  3180600.68  3199603.20\n",
       "12                28114  4588415.41  4613443.34"
      ]
     },
     "execution_count": 528,
     "metadata": {},
     "output_type": "execute_result"
    }
   ],
   "source": [
    "results = all_data.groupby('Month').sum()\n",
    "months = range(1,13)\n",
    "\n",
    "results"
   ]
  },
  {
   "cell_type": "code",
   "execution_count": 529,
   "id": "257f00c2",
   "metadata": {},
   "outputs": [
    {
     "data": {
      "image/png": "[encoded data removed]",
      "text/plain": [
       "<Figure size 648x432 with 1 Axes>"
      ]
     },
     "metadata": {},
     "output_type": "display_data"
    }
   ],
   "source": [
    "plt.figure(figsize = (9 , 6))\n",
    "plt.xticks(months, fontsize = 13)\n",
    "plt.yticks(fontsize = 13) \n",
    "plt.title(\"Sales In Each Month\",\n",
    "              fontsize = 14,\n",
    "              fontweight = 'bold')\n",
    "plt.xlabel(\"Month in number\", fontsize = 13)\n",
    "plt.ylabel(\"Sales In USD($) 1e6\", fontsize = 13)\n",
    "plt.bar(months, results['Sales'])\n",
    "plt.show()"
   ]
  },
  {
   "cell_type": "markdown",
   "id": "f194e541",
   "metadata": {},
   "source": [
    "## Question 2: What city had the highet number of sales?"
   ]
  },
  {
   "cell_type": "code",
   "execution_count": 530,
   "id": "7a4c6018",
   "metadata": {},
   "outputs": [
    {
     "data": {
      "text/html": [
       "<div>\n",
       "<style scoped>\n",
       "    .dataframe tbody tr th:only-of-type {\n",
       "        vertical-align: middle;\n",
       "    }\n",
       "\n",
       "    .dataframe tbody tr th {\n",
       "        vertical-align: top;\n",
       "    }\n",
       "\n",
       "    .dataframe thead th {\n",
       "        text-align: right;\n",
       "    }\n",
       "</style>\n",
       "<table border=\"1\" class=\"dataframe\">\n",
       "  <thead>\n",
       "    <tr style=\"text-align: right;\">\n",
       "      <th></th>\n",
       "      <th>Quantity_Ordered</th>\n",
       "      <th>Price_Each</th>\n",
       "      <th>Sales</th>\n",
       "      <th>Month</th>\n",
       "    </tr>\n",
       "    <tr>\n",
       "      <th>City</th>\n",
       "      <th></th>\n",
       "      <th></th>\n",
       "      <th></th>\n",
       "      <th></th>\n",
       "    </tr>\n",
       "  </thead>\n",
       "  <tbody>\n",
       "    <tr>\n",
       "      <th>Atlanta</th>\n",
       "      <td>16602</td>\n",
       "      <td>2779908.20</td>\n",
       "      <td>2795498.58</td>\n",
       "      <td>104794</td>\n",
       "    </tr>\n",
       "    <tr>\n",
       "      <th>Austin</th>\n",
       "      <td>11153</td>\n",
       "      <td>1809873.61</td>\n",
       "      <td>1819581.75</td>\n",
       "      <td>69829</td>\n",
       "    </tr>\n",
       "    <tr>\n",
       "      <th>Boston</th>\n",
       "      <td>22528</td>\n",
       "      <td>3637409.77</td>\n",
       "      <td>3661642.01</td>\n",
       "      <td>141112</td>\n",
       "    </tr>\n",
       "    <tr>\n",
       "      <th>Dallas</th>\n",
       "      <td>16730</td>\n",
       "      <td>2752627.82</td>\n",
       "      <td>2767975.40</td>\n",
       "      <td>104620</td>\n",
       "    </tr>\n",
       "    <tr>\n",
       "      <th>Los Angeles</th>\n",
       "      <td>33289</td>\n",
       "      <td>5421435.23</td>\n",
       "      <td>5452570.80</td>\n",
       "      <td>208325</td>\n",
       "    </tr>\n",
       "    <tr>\n",
       "      <th>New York City</th>\n",
       "      <td>27932</td>\n",
       "      <td>4635370.83</td>\n",
       "      <td>4664317.43</td>\n",
       "      <td>175741</td>\n",
       "    </tr>\n",
       "    <tr>\n",
       "      <th>Portland</th>\n",
       "      <td>14053</td>\n",
       "      <td>2307747.47</td>\n",
       "      <td>2320490.61</td>\n",
       "      <td>87765</td>\n",
       "    </tr>\n",
       "    <tr>\n",
       "      <th>San Francisco</th>\n",
       "      <td>50239</td>\n",
       "      <td>8211461.74</td>\n",
       "      <td>8262203.91</td>\n",
       "      <td>315520</td>\n",
       "    </tr>\n",
       "    <tr>\n",
       "      <th>Seattle</th>\n",
       "      <td>16553</td>\n",
       "      <td>2733296.01</td>\n",
       "      <td>2747755.48</td>\n",
       "      <td>104941</td>\n",
       "    </tr>\n",
       "  </tbody>\n",
       "</table>\n",
       "</div>"
      ],
      "text/plain": [
       "                Quantity_Ordered  Price_Each       Sales   Month\n",
       "City                                                            \n",
       " Atlanta                   16602  2779908.20  2795498.58  104794\n",
       " Austin                    11153  1809873.61  1819581.75   69829\n",
       " Boston                    22528  3637409.77  3661642.01  141112\n",
       " Dallas                    16730  2752627.82  2767975.40  104620\n",
       " Los Angeles               33289  5421435.23  5452570.80  208325\n",
       " New York City             27932  4635370.83  4664317.43  175741\n",
       " Portland                  14053  2307747.47  2320490.61   87765\n",
       " San Francisco             50239  8211461.74  8262203.91  315520\n",
       " Seattle                   16553  2733296.01  2747755.48  104941"
      ]
     },
     "execution_count": 530,
     "metadata": {},
     "output_type": "execute_result"
    }
   ],
   "source": [
    "city_sales = all_data.groupby('City').sum()\n",
    "cities = all_data[\"City\"].unique().tolist()\n",
    "cities.sort()\n",
    "city_sales"
   ]
  },
  {
   "cell_type": "code",
   "execution_count": 531,
   "id": "da8a01fa",
   "metadata": {},
   "outputs": [
    {
     "data": {
      "image/png": "[encoded data removed]",
      "text/plain": [
       "<Figure size 648x432 with 1 Axes>"
      ]
     },
     "metadata": {},
     "output_type": "display_data"
    }
   ],
   "source": [
    "plt.figure(figsize = (9 , 6))\n",
    "plt.xticks(rotation = 45, fontsize = 13)\n",
    "plt.yticks(fontsize = 13) \n",
    "plt.title(\"Sales By City\",\n",
    "              fontsize = 14,\n",
    "              fontweight = 'bold')\n",
    "plt.xlabel(\"City Name\", fontsize = 13)\n",
    "plt.ylabel(\"Sales In USD($) 1e6\", fontsize = 13)\n",
    "plt.bar(cities, city_sales['Sales'])\n",
    "plt.show()"
   ]
  },
  {
   "cell_type": "markdown",
   "id": "4c3ad723",
   "metadata": {},
   "source": [
    "## Question 3: What time should we display adversiments to maximize likelihood of costumer's buying product?"
   ]
  },
  {
   "cell_type": "code",
   "execution_count": 532,
   "id": "e6c08652",
   "metadata": {},
   "outputs": [],
   "source": [
    "all_data['Order_Date'] = pd.to_datetime(all_data['Order_Date']) # Change the time format to date time\n",
    "\n",
    "all_data[\"Hour\"] = all_data[\"Order_Date\"].dt.hour # insert hour column\n",
    "\n",
    "all_data[\"Minute\"] = all_data[\"Order_Date\"].dt.minute # insert minute column"
   ]
  },
  {
   "cell_type": "code",
   "execution_count": 533,
   "id": "276f2066",
   "metadata": {},
   "outputs": [
    {
     "data": {
      "image/png": "[encoded data removed]",
      "text/plain": [
       "<Figure size 648x432 with 1 Axes>"
      ]
     },
     "metadata": {},
     "output_type": "display_data"
    }
   ],
   "source": [
    "hours = [hour for hour, df in all_data.groupby('Hour')]\n",
    "orders = all_data.groupby(['Hour']).count() # count how many rows for each hour = orders per hour\n",
    "\n",
    "plt.figure(figsize = (9 , 6))\n",
    "plt.plot(hours, orders)\n",
    "plt.title(\"Orders by Hour\",\n",
    "              fontsize = 14,\n",
    "              fontweight = 'bold')\n",
    "plt.xlabel(\"Hour\", fontsize = 13)\n",
    "plt.ylabel(\"Number Of Orders\", fontsize = 13)\n",
    "plt.xticks(hours)\n",
    "\n",
    "plt.show()"
   ]
  },
  {
   "cell_type": "markdown",
   "id": "7b6d3098",
   "metadata": {},
   "source": [
    "## Question 4: What products are most often sold together"
   ]
  },
  {
   "cell_type": "code",
   "execution_count": 534,
   "id": "e780a3e7",
   "metadata": {},
   "outputs": [
    {
     "name": "stderr",
     "output_type": "stream",
     "text": [
      "C:\\Users\\user\\AppData\\Local\\Temp/ipykernel_11196/3058547807.py:3: SettingWithCopyWarning: \n",
      "A value is trying to be set on a copy of a slice from a DataFrame.\n",
      "Try using .loc[row_indexer,col_indexer] = value instead\n",
      "\n",
      "See the caveats in the documentation: https://pandas.pydata.org/pandas-docs/stable/user_guide/indexing.html#returning-a-view-versus-a-copy\n",
      "  df[\"Grouped\"] = df.groupby('Order_ID')['Product'].transform(lambda x: ','.join(x)) # Add grouped column that sum the product names\n"
     ]
    },
    {
     "data": {
      "text/html": [
       "<div>\n",
       "<style scoped>\n",
       "    .dataframe tbody tr th:only-of-type {\n",
       "        vertical-align: middle;\n",
       "    }\n",
       "\n",
       "    .dataframe tbody tr th {\n",
       "        vertical-align: top;\n",
       "    }\n",
       "\n",
       "    .dataframe thead th {\n",
       "        text-align: right;\n",
       "    }\n",
       "</style>\n",
       "<table border=\"1\" class=\"dataframe\">\n",
       "  <thead>\n",
       "    <tr style=\"text-align: right;\">\n",
       "      <th></th>\n",
       "      <th>Order_ID</th>\n",
       "      <th>Grouped</th>\n",
       "    </tr>\n",
       "  </thead>\n",
       "  <tbody>\n",
       "    <tr>\n",
       "      <th>3</th>\n",
       "      <td>176560</td>\n",
       "      <td>Google Phone,Wired Headphones</td>\n",
       "    </tr>\n",
       "    <tr>\n",
       "      <th>18</th>\n",
       "      <td>176574</td>\n",
       "      <td>Google Phone,USB-C Charging Cable</td>\n",
       "    </tr>\n",
       "    <tr>\n",
       "      <th>30</th>\n",
       "      <td>176585</td>\n",
       "      <td>Bose SoundSport Headphones,Bose SoundSport Hea...</td>\n",
       "    </tr>\n",
       "    <tr>\n",
       "      <th>32</th>\n",
       "      <td>176586</td>\n",
       "      <td>AAA Batteries (4-pack),Google Phone</td>\n",
       "    </tr>\n",
       "    <tr>\n",
       "      <th>119</th>\n",
       "      <td>176672</td>\n",
       "      <td>Lightning Charging Cable,USB-C Charging Cable</td>\n",
       "    </tr>\n",
       "  </tbody>\n",
       "</table>\n",
       "</div>"
      ],
      "text/plain": [
       "    Order_ID                                            Grouped\n",
       "3     176560                      Google Phone,Wired Headphones\n",
       "18    176574                  Google Phone,USB-C Charging Cable\n",
       "30    176585  Bose SoundSport Headphones,Bose SoundSport Hea...\n",
       "32    176586                AAA Batteries (4-pack),Google Phone\n",
       "119   176672      Lightning Charging Cable,USB-C Charging Cable"
      ]
     },
     "execution_count": 534,
     "metadata": {},
     "output_type": "execute_result"
    }
   ],
   "source": [
    "df = all_data[all_data[\"Order_ID\"].duplicated(keep= False)] # create temp dataframe that contains all duplicates\n",
    "\n",
    "df[\"Grouped\"] = df.groupby('Order_ID')['Product'].transform(lambda x: ','.join(x)) # Add grouped column that sum the product names\n",
    "\n",
    "df = df[['Order_ID', 'Grouped']].drop_duplicates() # drop suplicates\n",
    "\n",
    "df.head()"
   ]
  },
  {
   "cell_type": "code",
   "execution_count": 535,
   "id": "273d8d3c",
   "metadata": {},
   "outputs": [
    {
     "data": {
      "text/plain": [
       "[[['iPhone', 'Lightning Charging Cable'], 1005],\n",
       " [['Google Phone', 'USB-C Charging Cable'], 987],\n",
       " [['iPhone', 'Wired Headphones'], 447],\n",
       " [['Google Phone', 'Wired Headphones'], 414],\n",
       " [['Vareebadd Phone', 'USB-C Charging Cable'], 361],\n",
       " [['iPhone', 'Apple Airpods Headphones'], 360],\n",
       " [['Google Phone', 'Bose SoundSport Headphones'], 220],\n",
       " [['USB-C Charging Cable', 'Wired Headphones'], 160],\n",
       " [['Vareebadd Phone', 'Wired Headphones'], 143],\n",
       " [['Lightning Charging Cable', 'Wired Headphones'], 92]]"
      ]
     },
     "execution_count": 535,
     "metadata": {},
     "output_type": "execute_result"
    }
   ],
   "source": [
    "# Generate table of 10 most common combinations\n",
    "from itertools import combinations\n",
    "from collections import Counter\n",
    "\n",
    "mostcommon = []\n",
    "count = Counter()\n",
    "\n",
    "for row in df['Grouped']:\n",
    "    row_list = row.split(',')\n",
    "    count.update(Counter(combinations(row_list, 2)))\n",
    "\n",
    "for key, value in count.most_common(10):\n",
    "    df1 = [[key[0],key[1]], value]\n",
    "    mostcommon.append(df1)\n",
    "mostcommon"
   ]
  },
  {
   "cell_type": "markdown",
   "id": "c5996037",
   "metadata": {},
   "source": [
    "## Question 5: What product sold the most ?"
   ]
  },
  {
   "cell_type": "code",
   "execution_count": 536,
   "id": "22ad6f53",
   "metadata": {},
   "outputs": [
    {
     "data": {
      "text/plain": [
       "Product\n",
       "LG Dryer                   646\n",
       "LG Washing Machine         666\n",
       "Vareebadd Phone           2068\n",
       "20in Monitor              4129\n",
       "ThinkPad Laptop           4130\n",
       "Macbook Pro Laptop        4728\n",
       "Flatscreen TV             4819\n",
       "Google Phone              5532\n",
       "34in Ultrawide Monitor    6199\n",
       "27in 4K Gaming Monitor    6244\n",
       "Name: Quantity_Ordered, dtype: int64"
      ]
     },
     "execution_count": 536,
     "metadata": {},
     "output_type": "execute_result"
    }
   ],
   "source": [
    "product_sales = all_data.groupby('Product').sum()\n",
    "\n",
    "quan_ordered = product_sales[\"Quantity_Ordered\"].sort_values(axis=0)\n",
    "quan_ordered[0:10]"
   ]
  },
  {
   "cell_type": "code",
   "execution_count": 537,
   "id": "9f67d9af",
   "metadata": {},
   "outputs": [
    {
     "data": {
      "image/png": "[encoded data removed]",
      "text/plain": [
       "<Figure size 648x432 with 1 Axes>"
      ]
     },
     "metadata": {},
     "output_type": "display_data"
    }
   ],
   "source": [
    "plt.figure(figsize = (9 , 6))\n",
    "plt.xticks(rotation = 45, fontsize = 13)\n",
    "plt.yticks(fontsize = 13) \n",
    "plt.title(\"10 Most Ordered Products \",\n",
    "              fontsize = 14,\n",
    "              fontweight = 'bold')\n",
    "plt.xlabel(\"Product Name\", fontsize = 13)\n",
    "plt.ylabel(\"Orders\", fontsize = 13)\n",
    "plt.bar(quan_ordered[0:10].index, quan_ordered[0:10])\n",
    "plt.show()"
   ]
  },
  {
   "cell_type": "code",
   "execution_count": 539,
   "id": "8cdae2f9",
   "metadata": {},
   "outputs": [
    {
     "data": {
      "text/html": [
       "<div>\n",
       "<style scoped>\n",
       "    .dataframe tbody tr th:only-of-type {\n",
       "        vertical-align: middle;\n",
       "    }\n",
       "\n",
       "    .dataframe tbody tr th {\n",
       "        vertical-align: top;\n",
       "    }\n",
       "\n",
       "    .dataframe thead th {\n",
       "        text-align: right;\n",
       "    }\n",
       "</style>\n",
       "<table border=\"1\" class=\"dataframe\">\n",
       "  <thead>\n",
       "    <tr style=\"text-align: right;\">\n",
       "      <th></th>\n",
       "      <th>Order_ID</th>\n",
       "      <th>Product</th>\n",
       "      <th>Quantity_Ordered</th>\n",
       "      <th>Price_Each</th>\n",
       "      <th>Sales</th>\n",
       "      <th>Order_Date</th>\n",
       "      <th>Month</th>\n",
       "      <th>Purchase_Address</th>\n",
       "      <th>City</th>\n",
       "      <th>Hour</th>\n",
       "      <th>Minute</th>\n",
       "    </tr>\n",
       "  </thead>\n",
       "  <tbody>\n",
       "    <tr>\n",
       "      <th>0</th>\n",
       "      <td>176558</td>\n",
       "      <td>USB-C Charging Cable</td>\n",
       "      <td>2</td>\n",
       "      <td>11.95</td>\n",
       "      <td>23.90</td>\n",
       "      <td>2019-04-19 08:46:00</td>\n",
       "      <td>4</td>\n",
       "      <td>917 1st St, Dallas, TX 75001</td>\n",
       "      <td>Dallas</td>\n",
       "      <td>8</td>\n",
       "      <td>46</td>\n",
       "    </tr>\n",
       "    <tr>\n",
       "      <th>2</th>\n",
       "      <td>176559</td>\n",
       "      <td>Bose SoundSport Headphones</td>\n",
       "      <td>1</td>\n",
       "      <td>99.99</td>\n",
       "      <td>99.99</td>\n",
       "      <td>2019-04-07 22:30:00</td>\n",
       "      <td>4</td>\n",
       "      <td>682 Chestnut St, Boston, MA 02215</td>\n",
       "      <td>Boston</td>\n",
       "      <td>22</td>\n",
       "      <td>30</td>\n",
       "    </tr>\n",
       "    <tr>\n",
       "      <th>3</th>\n",
       "      <td>176560</td>\n",
       "      <td>Google Phone</td>\n",
       "      <td>1</td>\n",
       "      <td>600.00</td>\n",
       "      <td>600.00</td>\n",
       "      <td>2019-04-12 14:38:00</td>\n",
       "      <td>4</td>\n",
       "      <td>669 Spruce St, Los Angeles, CA 90001</td>\n",
       "      <td>Los Angeles</td>\n",
       "      <td>14</td>\n",
       "      <td>38</td>\n",
       "    </tr>\n",
       "    <tr>\n",
       "      <th>4</th>\n",
       "      <td>176560</td>\n",
       "      <td>Wired Headphones</td>\n",
       "      <td>1</td>\n",
       "      <td>11.99</td>\n",
       "      <td>11.99</td>\n",
       "      <td>2019-04-12 14:38:00</td>\n",
       "      <td>4</td>\n",
       "      <td>669 Spruce St, Los Angeles, CA 90001</td>\n",
       "      <td>Los Angeles</td>\n",
       "      <td>14</td>\n",
       "      <td>38</td>\n",
       "    </tr>\n",
       "    <tr>\n",
       "      <th>5</th>\n",
       "      <td>176561</td>\n",
       "      <td>Wired Headphones</td>\n",
       "      <td>1</td>\n",
       "      <td>11.99</td>\n",
       "      <td>11.99</td>\n",
       "      <td>2019-04-30 09:27:00</td>\n",
       "      <td>4</td>\n",
       "      <td>333 8th St, Los Angeles, CA 90001</td>\n",
       "      <td>Los Angeles</td>\n",
       "      <td>9</td>\n",
       "      <td>27</td>\n",
       "    </tr>\n",
       "  </tbody>\n",
       "</table>\n",
       "</div>"
      ],
      "text/plain": [
       "  Order_ID                     Product  Quantity_Ordered  Price_Each   Sales  \\\n",
       "0   176558        USB-C Charging Cable                 2       11.95   23.90   \n",
       "2   176559  Bose SoundSport Headphones                 1       99.99   99.99   \n",
       "3   176560                Google Phone                 1      600.00  600.00   \n",
       "4   176560            Wired Headphones                 1       11.99   11.99   \n",
       "5   176561            Wired Headphones                 1       11.99   11.99   \n",
       "\n",
       "           Order_Date  Month                      Purchase_Address  \\\n",
       "0 2019-04-19 08:46:00      4          917 1st St, Dallas, TX 75001   \n",
       "2 2019-04-07 22:30:00      4     682 Chestnut St, Boston, MA 02215   \n",
       "3 2019-04-12 14:38:00      4  669 Spruce St, Los Angeles, CA 90001   \n",
       "4 2019-04-12 14:38:00      4  669 Spruce St, Los Angeles, CA 90001   \n",
       "5 2019-04-30 09:27:00      4     333 8th St, Los Angeles, CA 90001   \n",
       "\n",
       "           City  Hour  Minute  \n",
       "0        Dallas     8      46  \n",
       "2        Boston    22      30  \n",
       "3   Los Angeles    14      38  \n",
       "4   Los Angeles    14      38  \n",
       "5   Los Angeles     9      27  "
      ]
     },
     "execution_count": 539,
     "metadata": {},
     "output_type": "execute_result"
    }
   ],
   "source": [
    "all_data.head()"
   ]
  },
  {
   "cell_type": "code",
   "execution_count": 538,
   "id": "efd5c916",
   "metadata": {},
   "outputs": [
    {
     "data": {
      "text/plain": [
       "Product\n",
       "Macbook Pro Laptop            8037600\n",
       "iPhone                        4794300\n",
       "ThinkPad Laptop               4129958\n",
       "Google Phone                  3319200\n",
       "27in 4K Gaming Monitor        2435097\n",
       "34in Ultrawide Monitor        2355558\n",
       "Apple Airpods Headphones      2349150\n",
       "Flatscreen TV                 1445700\n",
       "Bose SoundSport Headphones    1345565\n",
       "27in FHD Monitor              1132424\n",
       "Name: Sales, dtype: int64"
      ]
     },
     "execution_count": 538,
     "metadata": {},
     "output_type": "execute_result"
    }
   ],
   "source": [
    "sum_of_sales = product_sales[\"Sales\"].sort_values(axis=0, ascending=False)\n",
    "sum_of_sales[0:10].astype(np.int64)\n"
   ]
  }
 ],
 "metadata": {
  "kernelspec": {
   "display_name": "Python 3 (ipykernel)",
   "language": "python",
   "name": "python3"
  },
  "language_info": {
   "codemirror_mode": {
    "name": "ipython",
    "version": 3
   },
   "file_extension": ".py",
   "mimetype": "text/x-python",
   "name": "python",
   "nbconvert_exporter": "python",
   "pygments_lexer": "ipython3",
   "version": "3.9.7"
  }
 },
 "nbformat": 4,
 "nbformat_minor": 5
}
